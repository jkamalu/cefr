{
 "cells": [
  {
   "cell_type": "markdown",
   "metadata": {},
   "source": [
    "# Neural Model in Keras"
   ]
  },
  {
   "cell_type": "code",
   "execution_count": 11,
   "metadata": {},
   "outputs": [],
   "source": [
    "import os\n",
    "import sys\n",
    "import pickle as pkl\n",
    "\n",
    "import keras\n",
    "from keras import backend as K\n",
    "from keras.models import Sequential\n",
    "from keras.layers import Input, Embedding\n",
    "\n",
    "import tensorflow as tf\n",
    "\n",
    "sys.path.append(os.path.abspath('../preprocessing/'))\n",
    "from data_parser import DataParser"
   ]
  },
  {
   "cell_type": "code",
   "execution_count": 22,
   "metadata": {},
   "outputs": [],
   "source": [
    "class Config():\n",
    "    \n",
    "    batch_size = 50\n",
    "    max_seq_len = 300\n",
    "        embed_dim = 50\n",
    "      \n",
    "\n",
    "class CEFRModel():\n",
    "    \n",
    "    def __init__(self, embed_matrix):\n",
    "        self.graph = tf.Graph()\n",
    "        \n",
    "        sequence_input = Input(shape=(Config.batch_size, Config.max_seq_len), dtype='int32', name='sequence_input')\n",
    "        \n",
    "        embeds = self._embedding_layer(embed_matrix)(sequence_input)\n",
    "        \n",
    "    def _embedding_layer(self, embed_matrix):\n",
    "        return Embedding(embed_matrix.shape[0], \n",
    "                         Config.embed_dim,\n",
    "                         weights=[embed_matrix],\n",
    "                         input_length=Config.max_seq_len,\n",
    "                         trainable=False)        \n",
    "        "
   ]
  },
  {
   "cell_type": "markdown",
   "metadata": {},
   "source": [
    "## Load Data"
   ]
  },
  {
   "cell_type": "code",
   "execution_count": 23,
   "metadata": {},
   "outputs": [],
   "source": [
    "dp = DataParser(Config.embed_dim, Config.max_seq_len)\n",
    "sequences, labels, embed_matrix = dp.load_data()\n",
    "x_train, y_train, x_val, y_val = dp.split_data(sequences, labels)"
   ]
  },
  {
   "cell_type": "code",
   "execution_count": 24,
   "metadata": {},
   "outputs": [],
   "source": [
    "cefr_model = CEFRModel(embed_matrix)"
   ]
  },
  {
   "cell_type": "code",
   "execution_count": null,
   "metadata": {},
   "outputs": [],
   "source": []
  }
 ],
 "metadata": {
  "kernelspec": {
   "display_name": "Python 2",
   "language": "python",
   "name": "python2"
  },
  "language_info": {
   "codemirror_mode": {
    "name": "ipython",
    "version": 2
   },
   "file_extension": ".py",
   "mimetype": "text/x-python",
   "name": "python",
   "nbconvert_exporter": "python",
   "pygments_lexer": "ipython2",
   "version": "2.7.12"
  }
 },
 "nbformat": 4,
 "nbformat_minor": 2
}
