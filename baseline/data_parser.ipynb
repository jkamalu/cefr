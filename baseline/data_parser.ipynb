{
 "cells": [
  {
   "cell_type": "code",
   "execution_count": 40,
   "metadata": {},
   "outputs": [],
   "source": [
    "import sys, os\n",
    "import numpy as np\n",
    "import pickle as pkl"
   ]
  },
  {
   "cell_type": "code",
   "execution_count": 41,
   "metadata": {},
   "outputs": [],
   "source": [
    "data_dir = './ICNALE_Written_Essays_2.3'\n",
    "merged_plain_dir = '{}/Merged/Plain Text'.format(data_dir)"
   ]
  },
  {
   "cell_type": "code",
   "execution_count": 36,
   "metadata": {},
   "outputs": [],
   "source": [
    "level_mapping = {\n",
    "    'A2': 3,\n",
    "    'B1': 2,\n",
    "    'B2': 1,\n",
    "}"
   ]
  },
  {
   "cell_type": "code",
   "execution_count": 58,
   "metadata": {},
   "outputs": [],
   "source": [
    "def parse_merged_plain_v1():\n",
    "    data = []\n",
    "    labels = []\n",
    "    # TODO: featurizer = LexicalFeaturizer()\n",
    "    \n",
    "    for path in sorted(os.listdir(merged_plain_dir)):\n",
    "        file_name, file_ext = path.split('.')\n",
    "        attributes = file_name.split('_')\n",
    "\n",
    "        if attributes[3] in level_mapping:\n",
    "            level = level_mapping[attributes[3]]\n",
    "            print(level)\n",
    "        else: \n",
    "            level = 0\n",
    "            \n",
    "        with open('{}/{}'.format(merged_plain_dir, path), 'r') as file:\n",
    "            for sample in file:\n",
    "                # TODO: data.append(featurizer.featurize(sample))\n",
    "                data.append([0, 0, 2, 3])\n",
    "                labels.append(level)\n",
    "            \n",
    "    return data, labels"
   ]
  },
  {
   "cell_type": "code",
   "execution_count": null,
   "metadata": {},
   "outputs": [],
   "source": []
  }
 ],
 "metadata": {
  "kernelspec": {
   "display_name": "Python 3",
   "language": "python",
   "name": "python3"
  },
  "language_info": {
   "codemirror_mode": {
    "name": "ipython",
    "version": 3
   },
   "file_extension": ".py",
   "mimetype": "text/x-python",
   "name": "python",
   "nbconvert_exporter": "python",
   "pygments_lexer": "ipython3",
   "version": "3.6.0"
  }
 },
 "nbformat": 4,
 "nbformat_minor": 2
}
