{
 "cells": [
    {
   "cell_type": "code",
   "execution_count": 2,
   "metadata": {},
   "outputs": [],
   "source": [
    "import numpy as np\n",
    "import math\n",
    "from mtld import mtld"
   ]
  },
  {
   "cell_type": "code",
   "execution_count": 3,
   "metadata": {},
   "outputs": [],
   "source": [
    "beginner = \"My family is big family. I have one elder sister and two younger sister. My elder sister is nurse. She very friendly. She have a one’s child. He name is Jong Youn. Jong Youn is very cute, so we are very happy. Jong Youn is very smiling. He looks good. My one’s younger sister draw very well. She’s name is Su Jeong. Su Jeong is small body. She dream is artist so she is everyday draw. My one’s younger sister name is Suhyun. She is 16 years old. She is student. So everyday study. My father is very busy. My mother too. My mother everyday cooking. Sometimes, my father help them. I have a my husband.\"\n",
    "intermediate = \"My home country is Japan, and I was born Tokyo in Japan. Tokyo is a capital city in Japan, so there are many people live in and enjoy their life. I’m Japanese, but I don’t know much about Japan, because I hate history, so I talk about the capital city of Tokyo. My hometown was a small country city, and there were nothing except for a small market and a convenience store. Also, the convenience store was far from my house, it took 30 minutes walk by myself. My friends and me were always played our school ground or a park that near from our house. I think, Tokyo is very famous for have a many entertainments. However, that is only center city of Tokyo. When I tell people who is from other countries, about my countries, they said Tokyo!! I know Tokyo. Although, that is totally different that their image or thought of Tokyo.\"\n",
    "advanced = \"I don’t usually drive to the campus, but the other day I woke up really late and I was going to miss my class. I took my morning shower, put on my clothes in five minutes and jumped into my car. After three minutes I arrived to the parking lot next to the Butler building. As expected, it was totally jammed. After circulating the area for more than ten times I managed to squeeze my car between a Mustang and a truck. After class I wanted to go out for a break. I started backing of the parking space looking to left. I just did not want to scratch that beautiful Mustang on my left side. And while I’m staring at it. All of a sudden I heard a crack sound. I looked to right to see that my right side mirror was totally in the truck taillight. I panicked for a moment. That was my first accident.\""
   ]
  },
  {
   "cell_type": "code",
   "execution_count": 4,
   "metadata": {},
   "outputs": [],
   "source": [
    "def read_freq_data(freq_dict):\n",
    "    with open(\"../common_freq.csv\") as f:\n",
    "        content = f.readlines()\n",
    "    content = [x.strip().split(\",\") for x in content[1:]]\n",
    "    for word_data in content:\n",
    "        word = word_data[1].strip()\n",
    "        if word in freq_dict:\n",
    "            data_obj = freq_dict[word]\n",
    "        else:\n",
    "            data_obj = {}\n",
    "        data_obj[\"Rank\"] = word_data[0]\n",
    "        data_obj[\"PoS\"] = word_data[2]\n",
    "        data_obj[\"Frequency\"] = word_data[3]\n",
    "        data_obj[\"Dispersion\"] = word_data[4]\n",
    "        freq_dict[word] = data_obj\n",
    "    return freq_dict"
   ]
  },
  {
   "cell_type": "code",
   "execution_count": 5,
   "metadata": {},
   "outputs": [],
   "source": [
    "def read_concreteness_data(concrete_dict):\n",
    "    with open(\"../concreteness.csv\") as f:\n",
    "        content = f.readlines()\n",
    "    content = [x.strip().split(\",\") for x in content[1:]]\n",
    "    for word_data in content:\n",
    "        word = word_data[0].strip()\n",
    "        if word in concrete_dict:\n",
    "            data_obj = concrete_dict[word]\n",
    "        else:\n",
    "            data_obj = {}\n",
    "        data_obj[\"Concreteness\"] = word_data[2]\n",
    "        data_obj[\"Concrete_SD\"] = word_data[3]\n",
    "        concrete_dict[word] = data_obj\n",
    "#     print(content)\n",
    "    return concrete_dict"
   ]
  },
  {
   "cell_type": "code",
   "execution_count": 6,
   "metadata": {},
   "outputs": [],
   "source": [
    "def lexical_diversity(text):\n",
    "    return len(set(text)) / len(text)"
   ]
  },
  {
   "cell_type": "code",
   "execution_count": 7,
   "metadata": {},
   "outputs": [],
   "source": [
    "def read_data():\n",
    "    freq_dict = {}\n",
    "    read_freq_data(freq_dict)\n",
    "    \n",
    "    concrete_dict = {}\n",
    "    read_concreteness_data(concrete_dict)\n",
    "\n",
    "    print(freq_dict[\"the\"])\n",
    "    print(concrete_dict[\"the\"])"
   ]
  },
  {
   "cell_type": "code",
   "execution_count": 8,
   "metadata": {},
   "outputs": [
    {
     "name": "stdout",
     "output_type": "stream",
     "text": [
      "{'Rank': '1', 'PoS': 'a', 'Frequency': '22038615', 'Dispersion': '0.98'}\n",
      "{'Concreteness': '1.43', 'Concrete_SD': '1.07'}\n"
     ]
    }
   ],
   "source": [
    "read_data()"
   ]
  },
  {
   "cell_type": "code",
   "execution_count": 9,
   "metadata": {},
   "outputs": [
    {
     "data": {
      "text/plain": [
       "-1.0"
      ]
     },
     "execution_count": 9,
     "metadata": {},
     "output_type": "execute_result"
    }
   ],
   "source": [
    "mtld(intermediate.split(\".\"))"
   ]
  },
  {
   "cell_type": "code",
   "execution_count": 16,
   "metadata": {},
   "outputs": [],
   "source": [
    "sample = \"In my opinion, there's nothing inherently wrong with passing a lot of arguments and solutions advocating wrapping them all up in some container argument don't really solve any problems, other than stopping pylint from nagging you :-). If you need to pass twenty arguments, then pass them. It may be that this is required because your function is doing too much and a re-factoring could assist there, and that's something you should look at. But it's not a decision we can really make unless we see what the 'real' code is\""
   ]
  },
  {
   "cell_type": "code",
   "execution_count": 17,
   "metadata": {},
   "outputs": [
    {
     "data": {
      "text/plain": [
       "'In my opinion theres nothing inherently wrong with passing a lot of arguments and solutions advocating wrapping them all up in some container argument dont really solve any problems other than stopping pylint from nagging you  If you need to pass twenty arguments then pass them It may be that this is required because your function is doing too much and a refactoring could assist there and thats something you should look at But its not a decision we can really make unless we see what the real code is'"
      ]
     },
     "execution_count": 17,
     "metadata": {},
     "output_type": "execute_result"
    }
   ],
   "source": [
    "import re, string\n",
    "pattern = re.compile('([^\\s\\w]|_)+')\n",
    "re.sub(pattern, '', sample)"
   ]
  },
  {
   "cell_type": "code",
   "execution_count": 18,
   "metadata": {},
   "outputs": [],
   "source": [
    "def vocab (sampleText):\n",
    "    sampleText = re.sub(pattern, '', sampleText)\n",
    "    vocab = set([words.lower() for words in sampleText]) \n",
    "#     print len(vocab)  \n",
    "    return len(vocab)  \n",
    "def lexicalDiversity (sampleText):  \n",
    "    return len(sampleText) / vocab(sampleText)  \n",
    "    print('Lexical Diversity =' + lexicalDiversity (tTwister_text))"
   ]
  },
  {
   "cell_type": "code",
   "execution_count": 22,
   "metadata": {},
   "outputs": [
    {
     "data": {
      "text/plain": [
       "29.51851851851852"
      ]
     },
     "execution_count": 22,
     "metadata": {},
     "output_type": "execute_result"
    }
   ],
   "source": [
    "lexicalDiversity(advanced)"
   ]
  },
  {
   "cell_type": "code",
   "execution_count": null,
   "metadata": {},
   "outputs": [],
   "source": []
  },
  {
   "cell_type": "code",
   "execution_count": null,
   "metadata": {},
   "outputs": [],
   "source": []
  }

 ],
 "metadata": {
  "kernelspec": {
   "display_name": "Python 3",
   "language": "python",
   "name": "python3"
  },
  "language_info": {
   "codemirror_mode": {
    "name": "ipython",
    "version": 3
   },
   "file_extension": ".py",
   "mimetype": "text/x-python",
   "name": "python",
   "nbconvert_exporter": "python",
   "pygments_lexer": "ipython3",
   "version": "3.6.4"
  }
 },
 "nbformat": 4,
 "nbformat_minor": 2
}
