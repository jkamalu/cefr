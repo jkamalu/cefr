{
 "cells": [
  {
   "cell_type": "code",
   "execution_count": 1,
   "metadata": {},
   "outputs": [],
   "source": [
    "import numpy as np\n",
    "import math"
   ]
  },
  {
   "cell_type": "code",
   "execution_count": null,
   "metadata": {},
   "outputs": [],
   "source": [
    "beginner = \"My family is big family. I have one elder sister and two younger sister. My elder sister is nurse.\n",
    "She very friendly. She have a one’s child. He name is Jong Youn. Jong Youn is very cute, so we\n",
    "are very happy. Jong Youn is very smiling. He looks good. My one’s younger sister draw very\n",
    "well. She’s name is Su Jeong. Su Jeong is small body. She dream is artist so she is everyday\n",
    "draw. My one’s younger sister name is Suhyun. She is 16 years old. She is student. So everyday\n",
    "study. My father is very busy. My mother too. My mother everyday cooking. Sometimes, my\n",
    "father help them. I have a my husband.\""
   ]
  },
  {
   "cell_type": "code",
   "execution_count": null,
   "metadata": {},
   "outputs": [],
   "source": [
    "def freq_counter():\n",
    "    pass\n"
   ]
  }
 ],
 "metadata": {
  "kernelspec": {
   "display_name": "Python 3",
   "language": "python",
   "name": "python3"
  },
  "language_info": {
   "codemirror_mode": {
    "name": "ipython",
    "version": 3
   },
   "file_extension": ".py",
   "mimetype": "text/x-python",
   "name": "python",
   "nbconvert_exporter": "python",
   "pygments_lexer": "ipython3",
   "version": "3.6.4"
  }
 },
 "nbformat": 4,
 "nbformat_minor": 2
}
